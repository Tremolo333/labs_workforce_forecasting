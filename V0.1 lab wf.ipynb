{
 "cells": [
  {
   "cell_type": "markdown",
   "id": "c9fe5eec-257e-4d13-9728-cdbfed3c0578",
   "metadata": {},
   "source": [
    "# Labs workforce forecasting (very basic) simulation model"
   ]
  },
  {
   "cell_type": "markdown",
   "id": "1ba69d31-4ee4-4ad5-a42c-23772a9ee0b8",
   "metadata": {},
   "source": [
    "TBI:               \n",
    "all bugs fixed, relevant commenting added throughout for clarity\n",
    "\n",
    "the code should than run a very basic simulation model with only 1 type (band 3) of employees, dealing with uniform tasks at the given rate    \n",
    "it should allow for building on top of it, adding various complications structurally- and technically-wise            \n",
    " \n",
    "the next step would be adding employees of band 2, who would perform the same tasks, but at a higher rate      \n",
    "\n",
    "than band 1 would be added, who would perform a different job - verify processed samples (completed work) from bands 3 and 2.          \n",
    "band 1 would also deal with occasionally emerging complex samples, that would occupy a significant portion of their time      \n",
    "\n",
    "so there would have to be two queues or potential bottlenecks in this model:            \n",
    "one - at the very entry to the lab, indicating insufficient overall performance of band 3 + band 2 workers                      \n",
    "two - verification queue from band 3 + band 2 to band 1. potentially elevating (non-existant yet) issue of analysing complex samples in the context of intense verification work\n",
    "____________________________________________________________________________________________________________\n",
    "the runtime of the model would be 1 year = 365 days         \n",
    "as a typical workday lasts for 8 hours, appropriate changes have to be made to the code\n",
    "\n",
    "all parameters should be fine-tuned to resemble a somewhat realistic model, this could only be done after obtaining some results           \n",
    "ideally, they should be calculated based on the real-world data so the model is very similar to real-world lab conditions and produced results are realistic and meaningful\n",
    "\n",
    "warm-up period of the model should be implemented to assess the time when it reaches a stable state (all workers are loaded, queue times are stable etc)       \n",
    "number of runs for the model should be calculated to produce reliable and accurte results, estimate confidence intervals     \n"
   ]
  },
  {
   "cell_type": "markdown",
   "id": "a594c768-a45b-48ae-a78c-107d0638a67e",
   "metadata": {},
   "source": [
    "<b>(draw idea schematically)</b>      \n",
    "\n",
    "Three types of employees:\n",
    "\n",
    "First line__________________\n",
    "\n",
    "Band 3 (noobs):                   x5                  \n",
    "Process samples              \n",
    "Avg time - 1 / sample\n",
    "\n",
    "Band 2 (pros):                    x2                        \n",
    "Process samples                     \n",
    "Avg time - 0,5 / sample\n",
    "\n",
    "Second line_______________\n",
    "\n",
    "Band 1 (alpha):                    x1           \n",
    "Verify results               \n",
    "Avg time - 0,05 / sample             \n",
    "Process complex sample                \n",
    "Avg time - 0,75 / sample\n",
    "\n",
    "Chances of complex sample - 0,02         \n",
    "Mean samples inter-arrival time - 0,1        \n"
   ]
  },
  {
   "cell_type": "markdown",
   "id": "272dab18-d194-4071-a597-e80b3dc75888",
   "metadata": {
    "tags": []
   },
   "source": [
    "## Imports"
   ]
  },
  {
   "cell_type": "code",
   "execution_count": 1,
   "id": "ffde36a1-8bc3-4f4c-bde5-de6e5e371910",
   "metadata": {},
   "outputs": [],
   "source": [
    "import numpy as np\n",
    "import pandas as pd\n",
    "import itertools\n",
    "import math\n",
    "import matplotlib.pyplot as plt\n",
    "import simpy\n",
    "from joblib import Parallel, delayed\n",
    "import warnings\n",
    "from scipy.stats import t\n",
    "from treat_sim.distributions import Exponential, Lognormal"
   ]
  },
  {
   "cell_type": "markdown",
   "id": "b1f0b48d-abad-4352-8a7d-d593d29b2cc0",
   "metadata": {
    "tags": []
   },
   "source": [
    "## Utility functions"
   ]
  },
  {
   "cell_type": "code",
   "execution_count": 2,
   "id": "9297925e-4940-4fe2-a4c0-5a4b5de0d667",
   "metadata": {},
   "outputs": [],
   "source": [
    "def trace(msg):\n",
    "    '''\n",
    "    Utility function for printing simulation\n",
    "    set the TRACE constant to FALSE to \n",
    "    turn tracing off.\n",
    "    \n",
    "    Params:\n",
    "    -------\n",
    "    msg: str\n",
    "        string to print to screen.\n",
    "    '''\n",
    "    if TRACE:\n",
    "        print(msg)"
   ]
  },
  {
   "cell_type": "markdown",
   "id": "b4a70469-c774-41fd-9b97-8e5a0a4419c3",
   "metadata": {
    "tags": []
   },
   "source": [
    "## Model parameters\n",
    " "
   ]
  },
  {
   "cell_type": "code",
   "execution_count": 3,
   "id": "7febdba3-16a6-4b7e-af91-5b8f99c3ce3f",
   "metadata": {},
   "outputs": [],
   "source": [
    "# These are the parameters for a base case model run.\n",
    "\n",
    "# run length in days\n",
    "RUN_LENGTH = 365\n",
    "\n",
    "# resource counts\n",
    "N_WORKERS = 5\n",
    "\n",
    "# time between arrivals in hours (exponential)\n",
    "MEAN_IAT = 2\n",
    "\n",
    "# processing time (lognormal)\n",
    "PROCESS_MEAN = 1\n",
    "PROCESS_STD = 1.2\n",
    "\n",
    "# default № of reps for multiple reps run\n",
    "DEFAULT_N_REPS = 5\n",
    "\n",
    "# default random number SET\n",
    "DEFAULT_RNG_SET = None\n",
    "N_STREAMS = 10\n",
    "\n",
    "# Turn off tracing\n",
    "TRACE = False"
   ]
  },
  {
   "cell_type": "markdown",
   "id": "10809abe-20c5-4d4a-bc93-d2054bbd656f",
   "metadata": {
    "tags": []
   },
   "source": [
    "## Scenario class"
   ]
  },
  {
   "cell_type": "code",
   "execution_count": 4,
   "id": "dc9f584d-bcb9-4ec7-9d18-661b27b2f5ba",
   "metadata": {},
   "outputs": [],
   "source": [
    "class Scenario:\n",
    "\n",
    "    def __init__(self, random_number_set=DEFAULT_RNG_SET):\n",
    "        \n",
    "        # Warm-up period\n",
    "        self.warm_up = 0.0\n",
    "\n",
    "        # Default values for inter-arrival and process times\n",
    "        self.iat_mean = MEAN_IAT\n",
    "        self.process_mean = PROCESS_MEAN\n",
    "        self.process_std = PROCESS_STD\n",
    "\n",
    "        # Sampling\n",
    "        self.random_number_set = random_number_set\n",
    "        self.init_sampling()\n",
    "\n",
    "        # Number of emplyees\n",
    "        self.n_workers = N_WORKERS\n",
    "\n",
    "    def set_random_no_set(self, random_number_set):\n",
    "        '''\n",
    "        Set the random number set to be used by the simulation.\n",
    "\n",
    "        Parameters:\n",
    "        ----------\n",
    "        random_number_set: int\n",
    "            The random number set to be used by the simulation.\n",
    "        '''\n",
    "        self.random_number_set = random_number_set\n",
    "        self.init_sampling()\n",
    "\n",
    "    def init_sampling(self):\n",
    "        '''\n",
    "        Initialize the random number streams and create the distributions used by the simulation.\n",
    "        '''\n",
    "\n",
    "        # Create random number streams\n",
    "        rng_streams = np.random.default_rng(self.random_number_set)\n",
    "\n",
    "        # Initialize the random seeds for each stream\n",
    "        self.seeds = rng_streams.integers(0, 999999999, size=N_STREAMS)\n",
    "\n",
    "        # Create inter-arrival time distribution\n",
    "        self.arrival_dist = Exponential(self.iat_mean, random_seed=self.seeds[0])\n",
    "\n",
    "        # Create process time distributions \n",
    "        self.process_dist = Lognormal(self.process_mean, self.process_std, random_seed=self.seeds[1])"
   ]
  },
  {
   "cell_type": "markdown",
   "id": "0d757d78-8994-463e-8445-aa407578ddd5",
   "metadata": {
    "tags": []
   },
   "source": [
    "## Model building"
   ]
  },
  {
   "cell_type": "code",
   "execution_count": 5,
   "id": "fe6c7197-d719-49ce-9616-a6de36cd9770",
   "metadata": {},
   "outputs": [],
   "source": [
    "class Sample:\n",
    "\n",
    "    def __init__(self, identifier, env, args):\n",
    "\n",
    "        # sample id and environment\n",
    "        self.identifier = identifier\n",
    "        self.env = env\n",
    "        \n",
    "        # processing parameters\n",
    "        self.workers = args.workers\n",
    "        self.process_dist = args.process_dist\n",
    "    \n",
    "    def get_process_dist_sample(self):\n",
    "        '''\n",
    "        This method returns a sample from the process distribution of the sample, based on the employee's band.\n",
    "        '''\n",
    "        self.process_time = self.process_dist.sample()\n",
    "        return self.process_time\n",
    "    \n",
    "    def process(self):\n",
    "        '''\n",
    "        This method represents the sample processing. The sample arrives to the lab, waits for an available worker to take it into work, wait in the queue,\n",
    "        and then undergo processing before being passed for evaluation.\n",
    "        '''\n",
    "        # record the time when sample entered the system\n",
    "        arrival_time = self.env.now\n",
    "     \n",
    "        # take sample into work\n",
    "        with self.workers.request() as req:\n",
    "            yield req\n",
    "            \n",
    "            # calculate queue time and log it\n",
    "            self.queue_time = self.env.now - arrival_time\n",
    "            trace(f'Sample № {self.identifier} taken into work at {self.env.now:.3f};' \n",
    "                 + f' queue time was {self.queue_time:.3f}') \n",
    "            \n",
    "            # wait for processing to finish\n",
    "            yield self.env.timeout(self.get_process_dist_sample())"
   ]
  },
  {
   "cell_type": "code",
   "execution_count": 9,
   "id": "24a81e71-bf69-49c6-9e8b-274e80766eaa",
   "metadata": {},
   "outputs": [],
   "source": [
    "class LAB:\n",
    "\n",
    "    def __init__(self, args):\n",
    "\n",
    "        self.env = simpy.Environment()\n",
    "        self.args = args \n",
    "        self.process_dist = args.process_dist\n",
    "        self.init_model_resources()\n",
    "        self.samples = []\n",
    "        \n",
    "        self.arrivals_count = 0\n",
    "        \n",
    "        \n",
    "    def init_model_resources(self):\n",
    "\n",
    "        self.workers = simpy.Resource(self.env, \n",
    "                                   capacity=self.args.n_workers)\n",
    "        \n",
    "    def run(self, results_collection_period = RUN_LENGTH,\n",
    "            warm_up = 0):\n",
    "        \n",
    "        # setup the arrival processes\n",
    "        self.env.process(self.arrivals_generator())\n",
    "                \n",
    "        # run\n",
    "        self.env.run(until=results_collection_period+warm_up)\n",
    "        \n",
    "        \n",
    "    def get_arrival_dist_sample(self):\n",
    "        \n",
    "        inter_arrival_time = self.args.arrival_dist.sample()\n",
    "        return inter_arrival_time\n",
    "                \n",
    "    def arrivals_generator(self):\n",
    "        self.args.init_sampling()\n",
    "            \n",
    "        while True: \n",
    "\n",
    "            iat = self.get_arrival_dist_sample()\n",
    "            yield self.env.timeout(iat)\n",
    "                \n",
    "            if self.env.now > self.args.warm_up:    \n",
    "                self.arrivals_count += 1\n",
    "\n",
    "            trace(f'Sample № {self.arrivals_count}  arrives at {self.env.now:.3f}')\n",
    "                \n",
    "            new_sample = Sample(self.env, self.args, self)\n",
    "\n",
    "            self.env.process(new_sample.process()) "
   ]
  },
  {
   "cell_type": "markdown",
   "id": "6f7d0815-588c-4696-9203-e9ab4041e273",
   "metadata": {},
   "source": [
    "## Function for single run"
   ]
  },
  {
   "cell_type": "code",
   "execution_count": 10,
   "id": "015e8fb4-0686-4cb0-9783-6ddabf5d762e",
   "metadata": {},
   "outputs": [],
   "source": [
    "def single_run(scenario, \n",
    "               rc_period = RUN_LENGTH, \n",
    "               warm_up = 0,\n",
    "               random_no_set = DEFAULT_RNG_SET):\n",
    "        \n",
    "    # set random number set - this controls sampling for the run.\n",
    "    if random_no_set is not None:\n",
    "        scenario.set_random_no_set(random_no_set)\n",
    "    \n",
    "    scenario.warm_up = warm_up\n",
    "    \n",
    "    # create the model\n",
    "    model = LAB(scenario)\n",
    "\n",
    "    model.run(results_collection_period = rc_period, warm_up = warm_up)\n",
    "    \n",
    "    # run the model\n",
    "    results_summary= model.run_summary_frame()\n",
    "    \n",
    "    return results_summary"
   ]
  },
  {
   "cell_type": "markdown",
   "id": "e8d34ab7-06d3-4883-8656-e2d9d2bf24c8",
   "metadata": {
    "tags": []
   },
   "source": [
    "# Scripts to run the model"
   ]
  },
  {
   "cell_type": "code",
   "execution_count": 11,
   "id": "edd7047c-048a-435e-8062-efd021857094",
   "metadata": {},
   "outputs": [
    {
     "name": "stdout",
     "output_type": "stream",
     "text": [
      "Running simulation ... => "
     ]
    },
    {
     "ename": "AttributeError",
     "evalue": "'Scenario' object has no attribute 'now'",
     "output_type": "error",
     "traceback": [
      "\u001b[1;31m---------------------------------------------------------------------------\u001b[0m",
      "\u001b[1;31mAttributeError\u001b[0m                            Traceback (most recent call last)",
      "Cell \u001b[1;32mIn[5], line 26\u001b[0m, in \u001b[0;36mSample.process\u001b[1;34m(self)\u001b[0m\n\u001b[0;32m     25\u001b[0m \u001b[38;5;66;03m# record the time when sample entered the system\u001b[39;00m\n\u001b[1;32m---> 26\u001b[0m arrival_time \u001b[38;5;241m=\u001b[39m \u001b[38;5;28;43mself\u001b[39;49m\u001b[38;5;241;43m.\u001b[39;49m\u001b[43menv\u001b[49m\u001b[38;5;241;43m.\u001b[39;49m\u001b[43mnow\u001b[49m\n\u001b[0;32m     28\u001b[0m \u001b[38;5;66;03m# take sample into work\u001b[39;00m\n",
      "\u001b[1;31mAttributeError\u001b[0m: 'Scenario' object has no attribute 'now'",
      "\nThe above exception was the direct cause of the following exception:\n",
      "\u001b[1;31mAttributeError\u001b[0m                            Traceback (most recent call last)",
      "Cell \u001b[1;32mIn[11], line 7\u001b[0m\n\u001b[0;32m      4\u001b[0m default_args \u001b[38;5;241m=\u001b[39m Scenario()\n\u001b[0;32m      6\u001b[0m \u001b[38;5;28mprint\u001b[39m(\u001b[38;5;124m'\u001b[39m\u001b[38;5;124mRunning simulation ...\u001b[39m\u001b[38;5;124m'\u001b[39m, end \u001b[38;5;241m=\u001b[39m \u001b[38;5;124m'\u001b[39m\u001b[38;5;124m => \u001b[39m\u001b[38;5;124m'\u001b[39m)\n\u001b[1;32m----> 7\u001b[0m results \u001b[38;5;241m=\u001b[39m \u001b[43msingle_run\u001b[49m\u001b[43m(\u001b[49m\u001b[43mdefault_args\u001b[49m\u001b[43m,\u001b[49m\u001b[43m \u001b[49m\u001b[43mwarm_up\u001b[49m\u001b[38;5;241;43m=\u001b[39;49m\u001b[38;5;241;43m250\u001b[39;49m\u001b[43m)\u001b[49m\n\u001b[0;32m      8\u001b[0m \u001b[38;5;28mprint\u001b[39m(\u001b[38;5;124m'\u001b[39m\u001b[38;5;124msimulation complete.\u001b[39m\u001b[38;5;124m'\u001b[39m)\n\u001b[0;32m     10\u001b[0m results\n",
      "Cell \u001b[1;32mIn[10], line 15\u001b[0m, in \u001b[0;36msingle_run\u001b[1;34m(scenario, rc_period, warm_up, random_no_set)\u001b[0m\n\u001b[0;32m     12\u001b[0m \u001b[38;5;66;03m# create the model\u001b[39;00m\n\u001b[0;32m     13\u001b[0m model \u001b[38;5;241m=\u001b[39m LAB(scenario)\n\u001b[1;32m---> 15\u001b[0m \u001b[43mmodel\u001b[49m\u001b[38;5;241;43m.\u001b[39;49m\u001b[43mrun\u001b[49m\u001b[43m(\u001b[49m\u001b[43mresults_collection_period\u001b[49m\u001b[43m \u001b[49m\u001b[38;5;241;43m=\u001b[39;49m\u001b[43m \u001b[49m\u001b[43mrc_period\u001b[49m\u001b[43m,\u001b[49m\u001b[43m \u001b[49m\u001b[43mwarm_up\u001b[49m\u001b[43m \u001b[49m\u001b[38;5;241;43m=\u001b[39;49m\u001b[43m \u001b[49m\u001b[43mwarm_up\u001b[49m\u001b[43m)\u001b[49m\n\u001b[0;32m     17\u001b[0m \u001b[38;5;66;03m# run the model\u001b[39;00m\n\u001b[0;32m     18\u001b[0m results_summary\u001b[38;5;241m=\u001b[39m model\u001b[38;5;241m.\u001b[39mrun_summary_frame()\n",
      "Cell \u001b[1;32mIn[9], line 26\u001b[0m, in \u001b[0;36mLAB.run\u001b[1;34m(self, results_collection_period, warm_up)\u001b[0m\n\u001b[0;32m     23\u001b[0m \u001b[38;5;28mself\u001b[39m\u001b[38;5;241m.\u001b[39menv\u001b[38;5;241m.\u001b[39mprocess(\u001b[38;5;28mself\u001b[39m\u001b[38;5;241m.\u001b[39marrivals_generator())\n\u001b[0;32m     25\u001b[0m \u001b[38;5;66;03m# run\u001b[39;00m\n\u001b[1;32m---> 26\u001b[0m \u001b[38;5;28;43mself\u001b[39;49m\u001b[38;5;241;43m.\u001b[39;49m\u001b[43menv\u001b[49m\u001b[38;5;241;43m.\u001b[39;49m\u001b[43mrun\u001b[49m\u001b[43m(\u001b[49m\u001b[43muntil\u001b[49m\u001b[38;5;241;43m=\u001b[39;49m\u001b[43mresults_collection_period\u001b[49m\u001b[38;5;241;43m+\u001b[39;49m\u001b[43mwarm_up\u001b[49m\u001b[43m)\u001b[49m\n",
      "File \u001b[1;32mC:\\MAIN\\miniconda\\envs\\simulation\\lib\\site-packages\\simpy\\core.py:254\u001b[0m, in \u001b[0;36mEnvironment.run\u001b[1;34m(self, until)\u001b[0m\n\u001b[0;32m    252\u001b[0m \u001b[38;5;28;01mtry\u001b[39;00m:\n\u001b[0;32m    253\u001b[0m     \u001b[38;5;28;01mwhile\u001b[39;00m \u001b[38;5;28;01mTrue\u001b[39;00m:\n\u001b[1;32m--> 254\u001b[0m         \u001b[38;5;28;43mself\u001b[39;49m\u001b[38;5;241;43m.\u001b[39;49m\u001b[43mstep\u001b[49m\u001b[43m(\u001b[49m\u001b[43m)\u001b[49m\n\u001b[0;32m    255\u001b[0m \u001b[38;5;28;01mexcept\u001b[39;00m StopSimulation \u001b[38;5;28;01mas\u001b[39;00m exc:\n\u001b[0;32m    256\u001b[0m     \u001b[38;5;28;01mreturn\u001b[39;00m exc\u001b[38;5;241m.\u001b[39margs[\u001b[38;5;241m0\u001b[39m]  \u001b[38;5;66;03m# == until.value\u001b[39;00m\n",
      "File \u001b[1;32mC:\\MAIN\\miniconda\\envs\\simulation\\lib\\site-packages\\simpy\\core.py:206\u001b[0m, in \u001b[0;36mEnvironment.step\u001b[1;34m(self)\u001b[0m\n\u001b[0;32m    204\u001b[0m exc \u001b[38;5;241m=\u001b[39m \u001b[38;5;28mtype\u001b[39m(event\u001b[38;5;241m.\u001b[39m_value)(\u001b[38;5;241m*\u001b[39mevent\u001b[38;5;241m.\u001b[39m_value\u001b[38;5;241m.\u001b[39margs)\n\u001b[0;32m    205\u001b[0m exc\u001b[38;5;241m.\u001b[39m__cause__ \u001b[38;5;241m=\u001b[39m event\u001b[38;5;241m.\u001b[39m_value\n\u001b[1;32m--> 206\u001b[0m \u001b[38;5;28;01mraise\u001b[39;00m exc\n",
      "\u001b[1;31mAttributeError\u001b[0m: 'Scenario' object has no attribute 'now'"
     ]
    }
   ],
   "source": [
    "# SINGLE RUN\n",
    "\n",
    "# base case scenario with default parameters\n",
    "default_args = Scenario()\n",
    "\n",
    "print('Running simulation ...', end = ' => ')\n",
    "results = single_run(default_args, warm_up=250)\n",
    "print('simulation complete.')\n",
    "\n",
    "results"
   ]
  },
  {
   "cell_type": "code",
   "execution_count": null,
   "id": "a49474eb-fc7e-4868-8806-234ce5299818",
   "metadata": {},
   "outputs": [],
   "source": []
  },
  {
   "cell_type": "code",
   "execution_count": null,
   "id": "0e3ef490-a670-4bac-8f2a-eb8077cb7335",
   "metadata": {},
   "outputs": [],
   "source": []
  }
 ],
 "metadata": {
  "kernelspec": {
   "display_name": "Python 3 (ipykernel)",
   "language": "python",
   "name": "python3"
  },
  "language_info": {
   "codemirror_mode": {
    "name": "ipython",
    "version": 3
   },
   "file_extension": ".py",
   "mimetype": "text/x-python",
   "name": "python",
   "nbconvert_exporter": "python",
   "pygments_lexer": "ipython3",
   "version": "3.8.16"
  }
 },
 "nbformat": 4,
 "nbformat_minor": 5
}
